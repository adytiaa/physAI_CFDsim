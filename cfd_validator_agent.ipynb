{
 "cells": [
  {
   "cell_type": "markdown",
   "id": "982b8685",
   "metadata": {},
   "source": [
    "# CFD Validator Agent — Proof of Simulation for PINN CFD\n",
    "\n",
    "This notebook performs rule-based checks, computes CL/CD, trains an optional autoencoder detector, and generates a PDF report."
   ]
  },
  {
   "cell_type": "code",
   "execution_count": null,
   "id": "afc0930c",
   "metadata": {},
   "outputs": [],
   "source": [
    "import numpy as np\n",
    "import torch\n",
    "import matplotlib.pyplot as plt\n",
    "plt.rcParams['figure.figsize']=(8,4)\n",
    "print('torch', torch.__version__, 'cuda', torch.cuda.is_available())"
   ]
  },
  {
   "cell_type": "code",
   "execution_count": null,
   "id": "aa1f746a",
   "metadata": {},
   "outputs": [],
   "source": [
    "## Settings\n",
    "USE_PRECOMPUTED=False\n",
    "MODEL_PATH='pinn_airfoil_naca0012.pth'\n",
    "PRECOMP_U='airfoil_u.npy'\n",
    "PRECOMP_V='airfoil_v.npy'\n",
    "PRECOMP_P='airfoil_p.npy'\n",
    "PRECOMP_RHO='airfoil_rho.npy'\n",
    "AIRFOIL_COORDS='naca0012_coords.csv'\n",
    "xmin, xmax, ymin, ymax = -1.5, 3.0, -1.5, 1.5\n",
    "nx, ny = 300, 150\n",
    "xs = np.linspace(xmin, xmax, nx)\n",
    "ys = np.linspace(ymin, ymax, ny)\n",
    "X, Y = np.meshgrid(xs, ys)\n",
    "grid = np.vstack([X.ravel(), Y.ravel()]).T\n"
   ]
  },
  {
   "cell_type": "code",
   "execution_count": null,
   "id": "7ec3179b",
   "metadata": {},
   "outputs": [],
   "source": [
    "## Load or evaluate model (user must provide model or precomputed arrays)\n",
    "import os\n",
    "if USE_PRECOMPUTED and os.path.exists(PRECOMP_P):\n",
    "    u = np.load(PRECOMP_U); v = np.load(PRECOMP_V); p = np.load(PRECOMP_P)\n",
    "    print('Loaded precomputed fields')\n",
    "else:\n",
    "    if os.path.exists(MODEL_PATH):\n",
    "        print('Model file exists — notebook will try to load it. Ensure network class matches saved model.')\n",
    "    else:\n",
    "        raise RuntimeError('No model or precomputed fields found. Set USE_PRECOMPUTED or provide MODEL_PATH.')\n"
   ]
  },
  {
   "cell_type": "code",
   "execution_count": null,
   "id": "63ca529e",
   "metadata": {},
   "outputs": [],
   "source": [
    "## Validators\n",
    "from scipy import interpolate\n",
    "\n",
    "def check_bc_airfoil(u_grid, v_grid, airfoil_coords, xs, ys):\n",
    "    f_u = interpolate.RegularGridInterpolator((ys, xs), u_grid)\n",
    "    f_v = interpolate.RegularGridInterpolator((ys, xs), v_grid)\n",
    "    uv = np.array([f_u((pt[1], pt[0])) for pt in airfoil_coords]).flatten()\n",
    "    vv = np.array([f_v((pt[1], pt[0])) for pt in airfoil_coords]).flatten()\n",
    "    pts = airfoil_coords\n",
    "    tangents = np.zeros_like(pts)\n",
    "    for i in range(len(pts)):\n",
    "        i0=(i-1)%len(pts); i1=(i+1)%len(pts)\n",
    "        tg = pts[i1]-pts[i0]\n",
    "        tg = tg/(np.linalg.norm(tg)+1e-12)\n",
    "        tangents[i]=tg\n",
    "    normals = np.zeros_like(tangents); normals[:,0]=-tangents[:,1]; normals[:,1]=tangents[:,0]\n",
    "    vdotn = uv*normals[:,0] + vv*normals[:,1]\n",
    "    return np.mean(np.abs(vdotn)), np.max(np.abs(vdotn))\n",
    "\n",
    "def compute_pressure_forces(p_grid, airfoil_coords, xs, ys):\n",
    "    f_p = interpolate.RegularGridInterpolator((ys, xs), p_grid)\n",
    "    p_surf = np.array([f_p((pt[1], pt[0])) for pt in airfoil_coords]).flatten()\n",
    "    pts = airfoil_coords\n",
    "    tangents = np.zeros_like(pts)\n",
    "    for i in range(len(pts)):\n",
    "        i0=(i-1)%len(pts); i1=(i+1)%len(pts)\n",
    "        tg = pts[i1]-pts[i0]\n",
    "        tg = tg/(np.linalg.norm(tg)+1e-12)\n",
    "        tangents[i]=tg\n",
    "    normals = np.zeros_like(tangents); normals[:,0] = -tangents[:,1]; normals[:,1] = tangents[:,0]\n",
    "    seg_lengths = np.linalg.norm(np.roll(pts, -1, axis=0) - pts, axis=1)\n",
    "    force_segments = (-p_surf[:,None] * normals) * seg_lengths[:,None]\n",
    "    F_total = force_segments.sum(axis=0)\n",
    "    Drag = -F_total[0]; Lift = -F_total[1]\n",
    "    q_inf = 0.5 * 1.225 * (1.2 * ((1.4*287.058*288.15)**0.5))**2\n",
    "    Cl = Lift / (q_inf * 1.0); Cd = Drag / (q_inf * 1.0)\n",
    "    return {'Lift': float(Lift), 'Drag': float(Drag), 'Cl': float(Cl), 'Cd': float(Cd)}\n",
    "\n",
    "print('Validator helpers ready')\n"
   ]
  },
  {
   "cell_type": "code",
   "execution_count": null,
   "id": "3275fd19",
   "metadata": {},
   "outputs": [],
   "source": [
    "## Report generation helper\n",
    "import matplotlib.pyplot as plt\n",
    "\n",
    "def save_report_text(report, filename='cfd_validation_report.pdf'):\n",
    "    fig, ax = plt.subplots(figsize=(8.27,11.69))\n",
    "    ax.axis('off')\n",
    "    text = '\\n'.join([f'{k}: {v}' for k,v in report.items()])\n",
    "    ax.text(0.01, 0.99, text, va='top', ha='left', fontsize=10, family='monospace')\n",
    "    fig.savefig(filename)\n",
    "    print('Saved report to', filename)\n",
    "    plt.close(fig)\n"
   ]
  },
  {
   "cell_type": "markdown",
   "id": "a8d31ba1",
   "metadata": {},
   "source": [
    "## Usage example\n",
    "1. Set `USE_PRECOMPUTED=True` and save your `u,v,p` grids as numpy arrays named above and run this notebook.\n",
    "2. Or paste the evaluation code that computes `u_grid,v_grid,p_grid` into the 'Load or evaluate model' cell so the notebook produces fields.\n",
    "\n",
    "Once fields are available you can run the validators and generate the report."
   ]
  }
 ],
 "metadata": {},
 "nbformat": 4,
 "nbformat_minor": 5
}
